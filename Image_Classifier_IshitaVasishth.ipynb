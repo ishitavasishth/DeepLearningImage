{
  "nbformat": 4,
  "nbformat_minor": 0,
  "metadata": {
    "colab": {
      "provenance": []
    },
    "kernelspec": {
      "name": "python3",
      "display_name": "Python 3"
    },
    "language_info": {
      "name": "python"
    }
  },
  "cells": [
    {
      "cell_type": "markdown",
      "source": [
        "# Image Classifier with VGG16"
      ],
      "metadata": {
        "id": "8MPZFReImELT"
      }
    },
    {
      "cell_type": "markdown",
      "source": [
        "This project uses the pretrained VGG16 model from Keras to classify images into top-3 ImageNet categories. It’s built to run seamlessly on Google Colab, requires no API keys, and features a sleek, interactive Gradio UI for image upload and prediction."
      ],
      "metadata": {
        "id": "AJammmDjmUa-"
      }
    },
    {
      "cell_type": "code",
      "source": [
        "\n",
        "!pip install tensorflow gradio --quiet\n",
        "\n",
        "# ✅ Imports\n",
        "import numpy as np\n",
        "import gradio as gr\n",
        "from tensorflow.keras.applications.vgg16 import VGG16, preprocess_input, decode_predictions\n",
        "from tensorflow.keras.preprocessing import image\n",
        "\n",
        "# ✅ Load Pretrained VGG16 Model\n",
        "model = VGG16(weights='imagenet')\n",
        "\n",
        "# ✅ Prediction Function\n",
        "def predict_image(img_path):\n",
        "    img = image.load_img(img_path, target_size=(224, 224))\n",
        "    img_array = image.img_to_array(img)\n",
        "    img_batch = np.expand_dims(img_array, axis=0)\n",
        "    img_preprocessed = preprocess_input(img_batch)\n",
        "\n",
        "    predictions = model.predict(img_preprocessed)\n",
        "    decoded = decode_predictions(predictions, top=3)[0]\n",
        "\n",
        "    result = \"\\n\".join([f\"{label}: {round(score * 100, 2)}%\" for (_, label, score) in decoded])\n",
        "    return img_array / 255.0, result\n",
        "\n",
        "# ✅ Gradio UI\n",
        "gr.Interface(\n",
        "    fn=predict_image,\n",
        "    inputs=gr.Image(type=\"filepath\", label=\"Upload an Image\"),\n",
        "    outputs=[\n",
        "        gr.Image(label=\"Uploaded Image\"),\n",
        "        gr.Textbox(label=\"Top 3 Predictions\")\n",
        "    ],\n",
        "    title=\"🧠 Image Classifier (VGG16)\",\n",
        "    description=\"Upload an image to see the top 3 predicted labels using a pretrained VGG16 model.\"\n",
        ").launch(share=True)\n"
      ],
      "metadata": {
        "colab": {
          "base_uri": "https://localhost:8080/",
          "height": 611
        },
        "id": "Dpu_szU6kyyq",
        "outputId": "f26f7da2-b94e-4f59-838f-a7207820d594"
      },
      "execution_count": null,
      "outputs": [
        {
          "output_type": "stream",
          "name": "stdout",
          "text": [
            "Colab notebook detected. To show errors in colab notebook, set debug=True in launch()\n",
            "* Running on public URL: https://b1a2106748059e13c3.gradio.live\n",
            "\n",
            "This share link expires in 72 hours. For free permanent hosting and GPU upgrades, run `gradio deploy` from the terminal in the working directory to deploy to Hugging Face Spaces (https://huggingface.co/spaces)\n"
          ]
        },
        {
          "output_type": "display_data",
          "data": {
            "text/plain": [
              "<IPython.core.display.HTML object>"
            ],
            "text/html": [
              "<div><iframe src=\"https://b1a2106748059e13c3.gradio.live\" width=\"100%\" height=\"500\" allow=\"autoplay; camera; microphone; clipboard-read; clipboard-write;\" frameborder=\"0\" allowfullscreen></iframe></div>"
            ]
          },
          "metadata": {}
        },
        {
          "output_type": "execute_result",
          "data": {
            "text/plain": []
          },
          "metadata": {},
          "execution_count": 4
        }
      ]
    },
    {
      "cell_type": "code",
      "source": [],
      "metadata": {
        "id": "oVntLz48k1Su"
      },
      "execution_count": null,
      "outputs": []
    }
  ]
}